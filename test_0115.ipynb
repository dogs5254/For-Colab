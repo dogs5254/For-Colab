{
  "nbformat": 4,
  "nbformat_minor": 0,
  "metadata": {
    "colab": {
      "provenance": [],
      "authorship_tag": "ABX9TyNyhE/+HSnAZaPuZNyh/dUt",
      "include_colab_link": true
    },
    "kernelspec": {
      "name": "python3",
      "display_name": "Python 3"
    },
    "language_info": {
      "name": "python"
    }
  },
  "cells": [
    {
      "cell_type": "markdown",
      "metadata": {
        "id": "view-in-github",
        "colab_type": "text"
      },
      "source": [
        "<a href=\"https://colab.research.google.com/github/dogs5254/For-Colab/blob/main/test_0115.ipynb\" target=\"_parent\"><img src=\"https://colab.research.google.com/assets/colab-badge.svg\" alt=\"Open In Colab\"/></a>"
      ]
    },
    {
      "cell_type": "code",
      "execution_count": 3,
      "metadata": {
        "colab": {
          "base_uri": "https://localhost:8080/"
        },
        "id": "KqR_KxFwbv2c",
        "outputId": "b1e633e1-1d04-4e8e-88fa-22e10b4e7bad"
      },
      "outputs": [
        {
          "output_type": "stream",
          "name": "stdout",
          "text": [
            "Sun Jan 15 12:41:03 2023\n"
          ]
        }
      ],
      "source": [
        "import time\n",
        "print(time.ctime())"
      ]
    },
    {
      "cell_type": "code",
      "source": [
        "print(time.ctime())"
      ],
      "metadata": {
        "colab": {
          "base_uri": "https://localhost:8080/"
        },
        "id": "kR2SxF3Kcj2_",
        "outputId": "af74a691-b8b0-4cc9-ac70-8545e8c846ac"
      },
      "execution_count": 4,
      "outputs": [
        {
          "output_type": "stream",
          "name": "stdout",
          "text": [
            "Sun Jan 15 12:41:03 2023\n"
          ]
        }
      ]
    },
    {
      "cell_type": "markdown",
      "source": [
        "Here is the equation:\n",
        "\n",
        "$\\sqrt{3x+1}+(1+x)^2$\n",
        "\n",
        "Here is another equation:\n",
        "\n",
        "$e^x=\\sum_{i=0}^\\infty\\frac{1}{i!}x^i$\n",
        "\n",
        "For a group-equivarient layer $f$ and an input signal $x$:\n",
        "\n",
        "$f(g\\cdot{x})=g\\cdot{f(x)}$ for any $g\\in{G}$"
      ],
      "metadata": {
        "id": "Q77JyE4rd9ik"
      }
    }
  ]
}